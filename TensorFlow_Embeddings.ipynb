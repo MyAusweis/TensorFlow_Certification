{
  "nbformat": 4,
  "nbformat_minor": 0,
  "metadata": {
    "colab": {
      "name": "TensorFlow_Embeddings.ipynb",
      "provenance": [],
      "authorship_tag": "ABX9TyPO4AETxBOYa7wep+oT7oBA",
      "include_colab_link": true
    },
    "kernelspec": {
      "name": "python3",
      "display_name": "Python 3"
    }
  },
  "cells": [
    {
      "cell_type": "markdown",
      "metadata": {
        "id": "view-in-github",
        "colab_type": "text"
      },
      "source": [
        "<a href=\"https://colab.research.google.com/github/cxbxmxcx/TensorFlow_Certification/blob/master/TensorFlow_Embeddings.ipynb\" target=\"_parent\"><img src=\"https://colab.research.google.com/assets/colab-badge.svg\" alt=\"Open In Colab\"/></a>"
      ]
    },
    {
      "cell_type": "code",
      "metadata": {
        "id": "Pk3VGQiKP0oy",
        "colab_type": "code",
        "colab": {
          "base_uri": "https://localhost:8080/",
          "height": 34
        },
        "outputId": "d97f62a0-bd53-4b89-bde4-e6de3825ceb1"
      },
      "source": [
        "!pip install -q tensorflow-text"
      ],
      "execution_count": 1,
      "outputs": [
        {
          "output_type": "stream",
          "text": [
            "\u001b[K     |████████████████████████████████| 3.0MB 2.7MB/s \n",
            "\u001b[?25h"
          ],
          "name": "stdout"
        }
      ]
    },
    {
      "cell_type": "code",
      "metadata": {
        "id": "rhUrDc_zOA-H",
        "colab_type": "code",
        "colab": {}
      },
      "source": [
        "import tensorflow as tf\n",
        "import tensorflow_datasets as tfds\n",
        "import tensorflow_text as text"
      ],
      "execution_count": 2,
      "outputs": []
    },
    {
      "cell_type": "code",
      "metadata": {
        "id": "ecDZ9FFNOIAF",
        "colab_type": "code",
        "colab": {
          "base_uri": "https://localhost:8080/",
          "height": 556
        },
        "outputId": "b3ac83f8-3fe6-4304-d408-94da8111a83e"
      },
      "source": [
        "ds = tfds.load('imdb_reviews', split='train')\n",
        "docs = []\n",
        "for ex in ds.take(10):\n",
        "  print(ex)\n",
        "  docs.append(ex)\n",
        "\n",
        "docs"
      ],
      "execution_count": 31,
      "outputs": [
        {
          "output_type": "stream",
          "text": [
            "{'label': <tf.Tensor: shape=(), dtype=int64, numpy=0>, 'text': <tf.Tensor: shape=(), dtype=string, numpy=b\"This was an absolutely terrible movie. Don't be lured in by Christopher Walken or Michael Ironside. Both are great actors, but this must simply be their worst role in history. Even their great acting could not redeem this movie's ridiculous storyline. This movie is an early nineties US propaganda piece. The most pathetic scenes were those when the Columbian rebels were making their cases for revolutions. Maria Conchita Alonso appeared phony, and her pseudo-love affair with Walken was nothing but a pathetic emotional plug in a movie that was devoid of any real meaning. I am disappointed that there are movies like this, ruining actor's like Christopher Walken's good name. I could barely sit through it.\">}\n",
            "{'label': <tf.Tensor: shape=(), dtype=int64, numpy=0>, 'text': <tf.Tensor: shape=(), dtype=string, numpy=b'I have been known to fall asleep during films, but this is usually due to a combination of things including, really tired, being warm and comfortable on the sette and having just eaten a lot. However on this occasion I fell asleep because the film was rubbish. The plot development was constant. Constantly slow and boring. Things seemed to happen, but with no explanation of what was causing them or why. I admit, I may have missed part of the film, but i watched the majority of it and everything just seemed to happen of its own accord without any real concern for anything else. I cant recommend this film at all.'>}\n",
            "{'label': <tf.Tensor: shape=(), dtype=int64, numpy=0>, 'text': <tf.Tensor: shape=(), dtype=string, numpy=b'Mann photographs the Alberta Rocky Mountains in a superb fashion, and Jimmy Stewart and Walter Brennan give enjoyable performances as they always seem to do. <br /><br />But come on Hollywood - a Mountie telling the people of Dawson City, Yukon to elect themselves a marshal (yes a marshal!) and to enforce the law themselves, then gunfighters battling it out on the streets for control of the town? <br /><br />Nothing even remotely resembling that happened on the Canadian side of the border during the Klondike gold rush. Mr. Mann and company appear to have mistaken Dawson City for Deadwood, the Canadian North for the American Wild West.<br /><br />Canadian viewers be prepared for a Reefer Madness type of enjoyable howl with this ludicrous plot, or, to shake your head in disgust.'>}\n",
            "{'label': <tf.Tensor: shape=(), dtype=int64, numpy=1>, 'text': <tf.Tensor: shape=(), dtype=string, numpy=b'This is the kind of film for a snowy Sunday afternoon when the rest of the world can go ahead with its own business as you descend into a big arm-chair and mellow for a couple of hours. Wonderful performances from Cher and Nicolas Cage (as always) gently row the plot along. There are no rapids to cross, no dangerous waters, just a warm and witty paddle through New York life at its best. A family film in every sense and one that deserves the praise it received.'>}\n",
            "{'label': <tf.Tensor: shape=(), dtype=int64, numpy=1>, 'text': <tf.Tensor: shape=(), dtype=string, numpy=b'As others have mentioned, all the women that go nude in this film are mostly absolutely gorgeous. The plot very ably shows the hypocrisy of the female libido. When men are around they want to be pursued, but when no \"men\" are around, they become the pursuers of a 14 year old boy. And the boy becomes a man really fast (we should all be so lucky at this age!). He then gets up the courage to pursue his true love.'>}\n",
            "{'label': <tf.Tensor: shape=(), dtype=int64, numpy=1>, 'text': <tf.Tensor: shape=(), dtype=string, numpy=b\"This is a film which should be seen by anybody interested in, effected by, or suffering from an eating disorder. It is an amazingly accurate and sensitive portrayal of bulimia in a teenage girl, its causes and its symptoms. The girl is played by one of the most brilliant young actresses working in cinema today, Alison Lohman, who was later so spectacular in 'Where the Truth Lies'. I would recommend that this film be shown in all schools, as you will never see a better on this subject. Alison Lohman is absolutely outstanding, and one marvels at her ability to convey the anguish of a girl suffering from this compulsive disorder. If barometers tell us the air pressure, Alison Lohman tells us the emotional pressure with the same degree of accuracy. Her emotional range is so precise, each scene could be measured microscopically for its gradations of trauma, on a scale of rising hysteria and desperation which reaches unbearable intensity. Mare Winningham is the perfect choice to play her mother, and does so with immense sympathy and a range of emotions just as finely tuned as Lohman's. Together, they make a pair of sensitive emotional oscillators vibrating in resonance with one another. This film is really an astonishing achievement, and director Katt Shea should be proud of it. The only reason for not seeing it is if you are not interested in people. But even if you like nature films best, this is after all animal behaviour at the sharp edge. Bulimia is an extreme version of how a tormented soul can destroy her own body in a frenzy of despair. And if we don't sympathise with people suffering from the depths of despair, then we are dead inside.\">}\n",
            "{'label': <tf.Tensor: shape=(), dtype=int64, numpy=0>, 'text': <tf.Tensor: shape=(), dtype=string, numpy=b'Okay, you have:<br /><br />Penelope Keith as Miss Herringbone-Tweed, B.B.E. (Backbone of England.) She\\'s killed off in the first scene - that\\'s right, folks; this show has no backbone!<br /><br />Peter O\\'Toole as Ol\\' Colonel Cricket from The First War and now the emblazered Lord of the Manor.<br /><br />Joanna Lumley as the ensweatered Lady of the Manor, 20 years younger than the colonel and 20 years past her own prime but still glamourous (Brit spelling, not mine) enough to have a toy-boy on the side. It\\'s alright, they have Col. Cricket\\'s full knowledge and consent (they guy even comes \\'round for Christmas!) Still, she\\'s considerate of the colonel enough to have said toy-boy her own age (what a gal!)<br /><br />David McCallum as said toy-boy, equally as pointlessly glamourous as his squeeze. Pilcher couldn\\'t come up with any cover for him within the story, so she gave him a hush-hush job at the Circus.<br /><br />and finally:<br /><br />Susan Hampshire as Miss Polonia Teacups, Venerable Headmistress of the Venerable Girls\\' Boarding-School, serving tea in her office with a dash of deep, poignant advice for life in the outside world just before graduation. Her best bit of advice: \"I\\'ve only been to Nancherrow (the local Stately Home of England) once. I thought it was very beautiful but, somehow, not part of the real world.\" Well, we can\\'t say they didn\\'t warn us.<br /><br />Ah, Susan - time was, your character would have been running the whole show. They don\\'t write \\'em like that any more. Our loss, not yours.<br /><br />So - with a cast and setting like this, you have the re-makings of \"Brideshead Revisited,\" right?<br /><br />Wrong! They took these 1-dimensional supporting roles because they paid so well. After all, acting is one of the oldest temp-jobs there is (YOU name another!)<br /><br />First warning sign: lots and lots of backlighting. They get around it by shooting outdoors - \"hey, it\\'s just the sunlight!\"<br /><br />Second warning sign: Leading Lady cries a lot. When not crying, her eyes are moist. That\\'s the law of romance novels: Leading Lady is \"dewy-eyed.\"<br /><br />Henceforth, Leading Lady shall be known as L.L.<br /><br />Third warning sign: L.L. actually has stars in her eyes when she\\'s in love. Still, I\\'ll give Emily Mortimer an award just for having to act with that spotlight in her eyes (I wonder . did they use contacts?)<br /><br />And lastly, fourth warning sign: no on-screen female character is \"Mrs.\" She\\'s either \"Miss\" or \"Lady.\"<br /><br />When all was said and done, I still couldn\\'t tell you who was pursuing whom and why. I couldn\\'t even tell you what was said and done.<br /><br />To sum up: they all live through World War II without anything happening to them at all.<br /><br />OK, at the end, L.L. finds she\\'s lost her parents to the Japanese prison camps and baby sis comes home catatonic. Meanwhile (there\\'s always a \"meanwhile,\") some young guy L.L. had a crush on (when, I don\\'t know) comes home from some wartime tough spot and is found living on the street by Lady of the Manor (must be some street if SHE\\'s going to find him there.) Both war casualties are whisked away to recover at Nancherrow (SOMEBODY has to be \"whisked away\" SOMEWHERE in these romance stories!)<br /><br />Great drama.'>}\n",
            "{'label': <tf.Tensor: shape=(), dtype=int64, numpy=0>, 'text': <tf.Tensor: shape=(), dtype=string, numpy=b'The film is based on a genuine 1950s novel.<br /><br />Journalist Colin McInnes wrote a set of three \"London novels\": \"Absolute Beginners\", \"City of Spades\" and \"Mr Love and Justice\". I have read all three. The first two are excellent. The last, perhaps an experiment that did not come off. But McInnes\\'s work is highly acclaimed; and rightly so. This musical is the novelist\\'s ultimate nightmare - to see the fruits of one\\'s mind being turned into a glitzy, badly-acted, soporific one-dimensional apology of a film that says it captures the spirit of 1950s London, and does nothing of the sort.<br /><br />Thank goodness Colin McInnes wasn\\'t alive to witness it.'>}\n",
            "{'label': <tf.Tensor: shape=(), dtype=int64, numpy=0>, 'text': <tf.Tensor: shape=(), dtype=string, numpy=b'I really love the sexy action and sci-fi films of the sixties and its because of the actress\\'s that appeared in them. They found the sexiest women to be in these films and it didn\\'t matter if they could act (Remember \"Candy\"?). The reason I was disappointed by this film was because it wasn\\'t nostalgic enough. The story here has a European sci-fi film called \"Dragonfly\" being made and the director is fired. So the producers decide to let a young aspiring filmmaker (Jeremy Davies) to complete the picture. They\\'re is one real beautiful woman in the film who plays Dragonfly but she\\'s barely in it. Film is written and directed by Roman Coppola who uses some of his fathers exploits from his early days and puts it into the script. I wish the film could have been an homage to those early films. They could have lots of cameos by actors who appeared in them. There is one actor in this film who was popular from the sixties and its John Phillip Law (Barbarella). Gerard Depardieu, Giancarlo Giannini and Dean Stockwell appear as well. I guess I\\'m going to have to continue waiting for a director to make a good homage to the films of the sixties. If any are reading this, \"Make it as sexy as you can\"! I\\'ll be waiting!'>}\n",
            "{'label': <tf.Tensor: shape=(), dtype=int64, numpy=0>, 'text': <tf.Tensor: shape=(), dtype=string, numpy=b'Sure, this one isn\\'t really a blockbuster, nor does it target such a position. \"Dieter\" is the first name of a quite popular German musician, who is either loved or hated for his kind of acting and thats exactly what this movie is about. It is based on the autobiography \"Dieter Bohlen\" wrote a few years ago but isn\\'t meant to be accurate on that. The movie is filled with some sexual offensive content (at least for American standard) which is either amusing (not for the other \"actors\" of course) or dumb - it depends on your individual kind of humor or on you being a \"Bohlen\"-Fan or not. Technically speaking there isn\\'t much to criticize. Speaking of me I find this movie to be an OK-movie.'>}\n"
          ],
          "name": "stdout"
        },
        {
          "output_type": "execute_result",
          "data": {
            "text/plain": [
              "[{'label': <tf.Tensor: shape=(), dtype=int64, numpy=0>,\n",
              "  'text': <tf.Tensor: shape=(), dtype=string, numpy=b\"This was an absolutely terrible movie. Don't be lured in by Christopher Walken or Michael Ironside. Both are great actors, but this must simply be their worst role in history. Even their great acting could not redeem this movie's ridiculous storyline. This movie is an early nineties US propaganda piece. The most pathetic scenes were those when the Columbian rebels were making their cases for revolutions. Maria Conchita Alonso appeared phony, and her pseudo-love affair with Walken was nothing but a pathetic emotional plug in a movie that was devoid of any real meaning. I am disappointed that there are movies like this, ruining actor's like Christopher Walken's good name. I could barely sit through it.\">},\n",
              " {'label': <tf.Tensor: shape=(), dtype=int64, numpy=0>,\n",
              "  'text': <tf.Tensor: shape=(), dtype=string, numpy=b'I have been known to fall asleep during films, but this is usually due to a combination of things including, really tired, being warm and comfortable on the sette and having just eaten a lot. However on this occasion I fell asleep because the film was rubbish. The plot development was constant. Constantly slow and boring. Things seemed to happen, but with no explanation of what was causing them or why. I admit, I may have missed part of the film, but i watched the majority of it and everything just seemed to happen of its own accord without any real concern for anything else. I cant recommend this film at all.'>},\n",
              " {'label': <tf.Tensor: shape=(), dtype=int64, numpy=0>,\n",
              "  'text': <tf.Tensor: shape=(), dtype=string, numpy=b'Mann photographs the Alberta Rocky Mountains in a superb fashion, and Jimmy Stewart and Walter Brennan give enjoyable performances as they always seem to do. <br /><br />But come on Hollywood - a Mountie telling the people of Dawson City, Yukon to elect themselves a marshal (yes a marshal!) and to enforce the law themselves, then gunfighters battling it out on the streets for control of the town? <br /><br />Nothing even remotely resembling that happened on the Canadian side of the border during the Klondike gold rush. Mr. Mann and company appear to have mistaken Dawson City for Deadwood, the Canadian North for the American Wild West.<br /><br />Canadian viewers be prepared for a Reefer Madness type of enjoyable howl with this ludicrous plot, or, to shake your head in disgust.'>},\n",
              " {'label': <tf.Tensor: shape=(), dtype=int64, numpy=1>,\n",
              "  'text': <tf.Tensor: shape=(), dtype=string, numpy=b'This is the kind of film for a snowy Sunday afternoon when the rest of the world can go ahead with its own business as you descend into a big arm-chair and mellow for a couple of hours. Wonderful performances from Cher and Nicolas Cage (as always) gently row the plot along. There are no rapids to cross, no dangerous waters, just a warm and witty paddle through New York life at its best. A family film in every sense and one that deserves the praise it received.'>},\n",
              " {'label': <tf.Tensor: shape=(), dtype=int64, numpy=1>,\n",
              "  'text': <tf.Tensor: shape=(), dtype=string, numpy=b'As others have mentioned, all the women that go nude in this film are mostly absolutely gorgeous. The plot very ably shows the hypocrisy of the female libido. When men are around they want to be pursued, but when no \"men\" are around, they become the pursuers of a 14 year old boy. And the boy becomes a man really fast (we should all be so lucky at this age!). He then gets up the courage to pursue his true love.'>},\n",
              " {'label': <tf.Tensor: shape=(), dtype=int64, numpy=1>,\n",
              "  'text': <tf.Tensor: shape=(), dtype=string, numpy=b\"This is a film which should be seen by anybody interested in, effected by, or suffering from an eating disorder. It is an amazingly accurate and sensitive portrayal of bulimia in a teenage girl, its causes and its symptoms. The girl is played by one of the most brilliant young actresses working in cinema today, Alison Lohman, who was later so spectacular in 'Where the Truth Lies'. I would recommend that this film be shown in all schools, as you will never see a better on this subject. Alison Lohman is absolutely outstanding, and one marvels at her ability to convey the anguish of a girl suffering from this compulsive disorder. If barometers tell us the air pressure, Alison Lohman tells us the emotional pressure with the same degree of accuracy. Her emotional range is so precise, each scene could be measured microscopically for its gradations of trauma, on a scale of rising hysteria and desperation which reaches unbearable intensity. Mare Winningham is the perfect choice to play her mother, and does so with immense sympathy and a range of emotions just as finely tuned as Lohman's. Together, they make a pair of sensitive emotional oscillators vibrating in resonance with one another. This film is really an astonishing achievement, and director Katt Shea should be proud of it. The only reason for not seeing it is if you are not interested in people. But even if you like nature films best, this is after all animal behaviour at the sharp edge. Bulimia is an extreme version of how a tormented soul can destroy her own body in a frenzy of despair. And if we don't sympathise with people suffering from the depths of despair, then we are dead inside.\">},\n",
              " {'label': <tf.Tensor: shape=(), dtype=int64, numpy=0>,\n",
              "  'text': <tf.Tensor: shape=(), dtype=string, numpy=b'Okay, you have:<br /><br />Penelope Keith as Miss Herringbone-Tweed, B.B.E. (Backbone of England.) She\\'s killed off in the first scene - that\\'s right, folks; this show has no backbone!<br /><br />Peter O\\'Toole as Ol\\' Colonel Cricket from The First War and now the emblazered Lord of the Manor.<br /><br />Joanna Lumley as the ensweatered Lady of the Manor, 20 years younger than the colonel and 20 years past her own prime but still glamourous (Brit spelling, not mine) enough to have a toy-boy on the side. It\\'s alright, they have Col. Cricket\\'s full knowledge and consent (they guy even comes \\'round for Christmas!) Still, she\\'s considerate of the colonel enough to have said toy-boy her own age (what a gal!)<br /><br />David McCallum as said toy-boy, equally as pointlessly glamourous as his squeeze. Pilcher couldn\\'t come up with any cover for him within the story, so she gave him a hush-hush job at the Circus.<br /><br />and finally:<br /><br />Susan Hampshire as Miss Polonia Teacups, Venerable Headmistress of the Venerable Girls\\' Boarding-School, serving tea in her office with a dash of deep, poignant advice for life in the outside world just before graduation. Her best bit of advice: \"I\\'ve only been to Nancherrow (the local Stately Home of England) once. I thought it was very beautiful but, somehow, not part of the real world.\" Well, we can\\'t say they didn\\'t warn us.<br /><br />Ah, Susan - time was, your character would have been running the whole show. They don\\'t write \\'em like that any more. Our loss, not yours.<br /><br />So - with a cast and setting like this, you have the re-makings of \"Brideshead Revisited,\" right?<br /><br />Wrong! They took these 1-dimensional supporting roles because they paid so well. After all, acting is one of the oldest temp-jobs there is (YOU name another!)<br /><br />First warning sign: lots and lots of backlighting. They get around it by shooting outdoors - \"hey, it\\'s just the sunlight!\"<br /><br />Second warning sign: Leading Lady cries a lot. When not crying, her eyes are moist. That\\'s the law of romance novels: Leading Lady is \"dewy-eyed.\"<br /><br />Henceforth, Leading Lady shall be known as L.L.<br /><br />Third warning sign: L.L. actually has stars in her eyes when she\\'s in love. Still, I\\'ll give Emily Mortimer an award just for having to act with that spotlight in her eyes (I wonder . did they use contacts?)<br /><br />And lastly, fourth warning sign: no on-screen female character is \"Mrs.\" She\\'s either \"Miss\" or \"Lady.\"<br /><br />When all was said and done, I still couldn\\'t tell you who was pursuing whom and why. I couldn\\'t even tell you what was said and done.<br /><br />To sum up: they all live through World War II without anything happening to them at all.<br /><br />OK, at the end, L.L. finds she\\'s lost her parents to the Japanese prison camps and baby sis comes home catatonic. Meanwhile (there\\'s always a \"meanwhile,\") some young guy L.L. had a crush on (when, I don\\'t know) comes home from some wartime tough spot and is found living on the street by Lady of the Manor (must be some street if SHE\\'s going to find him there.) Both war casualties are whisked away to recover at Nancherrow (SOMEBODY has to be \"whisked away\" SOMEWHERE in these romance stories!)<br /><br />Great drama.'>},\n",
              " {'label': <tf.Tensor: shape=(), dtype=int64, numpy=0>,\n",
              "  'text': <tf.Tensor: shape=(), dtype=string, numpy=b'The film is based on a genuine 1950s novel.<br /><br />Journalist Colin McInnes wrote a set of three \"London novels\": \"Absolute Beginners\", \"City of Spades\" and \"Mr Love and Justice\". I have read all three. The first two are excellent. The last, perhaps an experiment that did not come off. But McInnes\\'s work is highly acclaimed; and rightly so. This musical is the novelist\\'s ultimate nightmare - to see the fruits of one\\'s mind being turned into a glitzy, badly-acted, soporific one-dimensional apology of a film that says it captures the spirit of 1950s London, and does nothing of the sort.<br /><br />Thank goodness Colin McInnes wasn\\'t alive to witness it.'>},\n",
              " {'label': <tf.Tensor: shape=(), dtype=int64, numpy=0>,\n",
              "  'text': <tf.Tensor: shape=(), dtype=string, numpy=b'I really love the sexy action and sci-fi films of the sixties and its because of the actress\\'s that appeared in them. They found the sexiest women to be in these films and it didn\\'t matter if they could act (Remember \"Candy\"?). The reason I was disappointed by this film was because it wasn\\'t nostalgic enough. The story here has a European sci-fi film called \"Dragonfly\" being made and the director is fired. So the producers decide to let a young aspiring filmmaker (Jeremy Davies) to complete the picture. They\\'re is one real beautiful woman in the film who plays Dragonfly but she\\'s barely in it. Film is written and directed by Roman Coppola who uses some of his fathers exploits from his early days and puts it into the script. I wish the film could have been an homage to those early films. They could have lots of cameos by actors who appeared in them. There is one actor in this film who was popular from the sixties and its John Phillip Law (Barbarella). Gerard Depardieu, Giancarlo Giannini and Dean Stockwell appear as well. I guess I\\'m going to have to continue waiting for a director to make a good homage to the films of the sixties. If any are reading this, \"Make it as sexy as you can\"! I\\'ll be waiting!'>},\n",
              " {'label': <tf.Tensor: shape=(), dtype=int64, numpy=0>,\n",
              "  'text': <tf.Tensor: shape=(), dtype=string, numpy=b'Sure, this one isn\\'t really a blockbuster, nor does it target such a position. \"Dieter\" is the first name of a quite popular German musician, who is either loved or hated for his kind of acting and thats exactly what this movie is about. It is based on the autobiography \"Dieter Bohlen\" wrote a few years ago but isn\\'t meant to be accurate on that. The movie is filled with some sexual offensive content (at least for American standard) which is either amusing (not for the other \"actors\" of course) or dumb - it depends on your individual kind of humor or on you being a \"Bohlen\"-Fan or not. Technically speaking there isn\\'t much to criticize. Speaking of me I find this movie to be an OK-movie.'>}]"
            ]
          },
          "metadata": {
            "tags": []
          },
          "execution_count": 31
        }
      ]
    },
    {
      "cell_type": "code",
      "metadata": {
        "id": "V6L8fT8rDU9R",
        "colab_type": "code",
        "colab": {
          "base_uri": "https://localhost:8080/",
          "height": 34
        },
        "outputId": "5262b461-5069-42af-9f4e-881ced94861e"
      },
      "source": [
        "tokenizer = tfds.features.text.Tokenizer()\n",
        "\n",
        "vocabulary_set = set()\n",
        "for doc in docs:\n",
        "  some_tokens = tokenizer.tokenize(doc[\"text\"].numpy())\n",
        "  vocabulary_set.update(some_tokens)\n",
        "\n",
        "vocab_size = len(vocabulary_set)\n",
        "vocab_size"
      ],
      "execution_count": 38,
      "outputs": [
        {
          "output_type": "execute_result",
          "data": {
            "text/plain": [
              "817"
            ]
          },
          "metadata": {
            "tags": []
          },
          "execution_count": 38
        }
      ]
    },
    {
      "cell_type": "code",
      "metadata": {
        "id": "S4fx2GelNfC5",
        "colab_type": "code",
        "colab": {
          "base_uri": "https://localhost:8080/",
          "height": 72
        },
        "outputId": "cecc6fb7-dbd9-4d34-ca3b-3de08d907513"
      },
      "source": [
        "docs[1]"
      ],
      "execution_count": 34,
      "outputs": [
        {
          "output_type": "execute_result",
          "data": {
            "text/plain": [
              "{'label': <tf.Tensor: shape=(), dtype=int64, numpy=0>,\n",
              " 'text': <tf.Tensor: shape=(), dtype=string, numpy=b'I have been known to fall asleep during films, but this is usually due to a combination of things including, really tired, being warm and comfortable on the sette and having just eaten a lot. However on this occasion I fell asleep because the film was rubbish. The plot development was constant. Constantly slow and boring. Things seemed to happen, but with no explanation of what was causing them or why. I admit, I may have missed part of the film, but i watched the majority of it and everything just seemed to happen of its own accord without any real concern for anything else. I cant recommend this film at all.'>}"
            ]
          },
          "metadata": {
            "tags": []
          },
          "execution_count": 34
        }
      ]
    },
    {
      "cell_type": "code",
      "metadata": {
        "id": "W6EMafIpEKxV",
        "colab_type": "code",
        "colab": {}
      },
      "source": [
        "encoder = tfds.features.text.TokenTextEncoder(vocabulary_set)"
      ],
      "execution_count": 39,
      "outputs": []
    },
    {
      "cell_type": "code",
      "metadata": {
        "id": "Hsr_Ds44DjN6",
        "colab_type": "code",
        "colab": {
          "base_uri": "https://localhost:8080/",
          "height": 210
        },
        "outputId": "0c8c153d-aebc-480e-a0d5-f153befc0bb1"
      },
      "source": [
        "encoded = [encoder.encode(doc[\"text\"].numpy()) for doc in docs]\n",
        "for i in range(len(encoded)):\n",
        "  print(','.join([str(a) for a in encoded[i]]))"
      ],
      "execution_count": 41,
      "outputs": [
        {
          "output_type": "stream",
          "text": [
            "140,312,554,460,264,425,83,138,337,332,536,617,135,744,70,796,419,669,130,401,15,769,779,581,728,337,148,39,355,536,184,159,148,401,25,438,74,128,779,425,240,800,411,140,425,446,554,578,265,605,677,441,326,670,221,522,296,202,97,266,330,648,296,31,148,228,530,443,122,13,644,456,368,619,740,224,716,357,132,744,312,775,769,722,221,396,667,536,722,425,77,312,729,632,364,62,144,703,543,67,77,293,130,98,229,779,47,780,240,229,135,744,240,584,363,703,438,777,129,750,585\n",
            "703,105,433,497,748,674,741,358,71,769,779,446,271,170,748,722,801,632,771,222,512,412,142,784,619,104,517,266,208,619,177,172,577,722,804,429,517,779,701,703,650,741,573,266,765,312,466,326,324,201,312,695,481,95,619,805,308,402,748,298,769,132,369,277,632,371,312,153,569,70,550,703,641,703,557,105,675,568,632,266,765,769,495,230,266,656,632,585,619,474,172,402,748,298,632,762,597,78,400,364,62,472,530,317,706,703,320,301,779,765,711,302\n",
            "306,531,266,600,727,489,536,722,236,348,619,143,537,619,175,150,719,391,492,496,562,642,186,748,785,533,533,338,351,517,685,722,295,257,266,730,632,774,176,11,748,652,313,722,525,96,722,525,619,748,366,266,376,313,768,579,586,585,270,517,266,145,530,214,632,266,451,533,533,640,760,473,203,77,428,517,266,410,137,632,266,393,358,266,782,134,249,168,306,619,44,158,748,105,571,774,176,530,281,266,410,421,530,266,813,457,520,533,533,410,461,337,452,530,722,491,119,297,632,391,219,132,779,532,324,70,748,164,413,407,536,331\n",
            "140,446,266,161,632,765,530,722,10,329,256,97,266,592,632,266,658,551,392,403,132,762,597,397,496,84,154,651,722,705,742,288,619,327,530,722,155,632,751,244,492,63,381,619,506,747,496,642,607,223,266,324,630,789,130,369,546,748,86,369,169,647,172,722,784,619,541,613,750,123,682,209,711,762,687,513,33,765,536,349,254,619,534,77,595,266,384,585,467\n",
            "493,544,105,238,302,266,160,77,392,260,536,779,765,130,323,460,305,326,324,444,124,16,266,380,632,266,24,558,645,213,130,731,562,678,748,337,553,769,97,369,213,130,731,562,90,266,136,632,722,708,290,339,194,807,266,194,88,722,345,512,48,187,518,302,337,361,668,711,779,322,316,768,420,321,266,58,748,526,204,286,716\n",
            "140,446,722,765,29,518,337,193,617,756,691,536,272,617,70,310,63,554,287,786,459,446,554,696,43,619,574,210,632,269,536,722,165,434,762,508,619,762,811,326,434,446,770,617,534,632,266,670,514,398,2,113,536,353,14,608,227,723,312,232,361,205,536,92,266,315,171,703,325,301,77,779,765,337,638,536,302,46,496,84,795,710,431,722,683,517,779,587,608,227,446,460,643,619,534,556,711,740,388,748,377,266,162,632,722,434,310,63,779,399,786,422,637,259,635,266,718,733,608,227,794,635,266,396,733,132,266,516,664,632,625,449,396,64,446,361,23,427,615,438,337,712,684,530,762,18,632,671,517,722,725,632,659,468,619,375,29,333,404,673,76,37,446,266,817,415,748,502,740,275,619,482,361,132,242,166,619,722,64,632,49,172,496,27,462,496,227,240,757,562,109,722,200,632,574,396,40,342,536,276,132,534,108,140,765,446,512,554,190,69,619,515,500,477,518,337,359,632,585,326,280,362,530,74,654,585,446,263,84,130,74,691,536,730,338,760,263,84,229,672,71,687,779,446,163,302,802,394,711,266,117,448,724,446,554,549,267,632,131,722,424,22,551,582,740,597,509,536,722,261,632,387,807,263,187,593,138,149,132,730,310,63,266,470,632,387,768,187,130,178,816\n",
            "618,84,105,533,533,82,690,496,752,226,218,476,476,745,127,632,237,803,240,5,354,536,266,511,615,77,240,99,85,779,185,720,369,603,533,533,435,631,540,496,570,100,378,63,326,285,749,619,365,266,80,374,632,266,627,533,533,439,283,496,266,487,475,632,266,627,453,309,726,499,266,812,619,453,309,146,740,597,738,769,559,408,707,344,74,147,588,748,105,722,106,194,517,266,137,459,240,575,562,105,416,378,240,91,521,619,386,562,662,760,319,442,530,102,231,389,240,815,632,266,812,588,748,105,666,106,194,740,597,322,371,722,115,533,533,437,179,496,666,106,194,3,496,698,408,496,204,792,215,252,138,351,321,132,364,243,530,604,566,266,139,361,389,57,604,722,790,790,217,711,266,609,533,533,619,9,533,533,535,783,496,752,195,379,191,79,632,266,191,761,634,28,486,653,536,740,563,132,722,75,632,56,207,494,530,209,536,266,594,658,172,753,110,449,687,303,632,494,703,791,280,433,748,464,266,284,405,370,632,237,735,703,732,585,312,444,426,769,61,74,568,632,266,62,658,633,187,551,138,356,562,700,138,713,635,533,533,121,535,152,312,413,576,325,105,433,300,266,528,185,367,593,138,758,560,229,77,364,156,778,182,74,772,533,533,417,132,722,292,619,754,229,779,84,105,266,602,32,632,681,614,99,533,533,418,367,66,336,612,649,174,235,573,562,12,361,797,736,302,25,446,534,632,266,523,455,621,293,446,328,363,108,533,533,285,596,484,318,619,318,632,798,367,341,731,585,617,385,471,192,585,240,172,266,626,533,533,141,596,484,788,475,583,722,804,645,74,806,740,809,130,59,45,240,266,376,632,692,278,788,475,446,580,737,533,533,289,788,475,598,337,497,496,246,246,533,533,314,596,484,246,246,197,720,689,536,740,809,97,389,240,536,716,231,703,212,719,250,180,554,436,172,530,177,748,17,132,77,233,536,740,809,703,268,395,562,483,679,533,533,807,87,555,596,484,369,517,262,24,576,446,485,803,240,51,752,70,475,533,533,645,302,312,666,619,478,703,559,252,138,259,84,723,312,335,181,619,550,703,252,138,760,259,84,371,312,666,619,478,533,533,680,734,321,562,302,1,750,251,749,173,400,317,639,748,569,711,302,533,533,7,711,266,620,246,246,55,389,240,133,740,445,748,266,601,498,810,619,743,125,319,763,542,524,293,240,642,722,423,347,398,662,246,246,360,722,196,517,97,703,593,138,547,319,763,63,347,454,714,81,619,446,198,504,517,266,253,617,475,632,266,627,581,337,347,253,263,463,240,686,748,764,604,293,669,561,589,130,501,35,748,118,711,464,273,720,748,337,501,35,72,536,336,692,343,533,533,545,479\n",
            "326,765,446,225,517,722,704,663,622,533,533,776,599,799,248,722,538,632,450,694,278,564,93,176,632,636,619,168,693,619,111,703,105,50,302,450,326,511,552,130,183,326,808,89,554,766,77,395,74,351,354,338,799,240,311,446,258,507,619,245,361,140,107,446,266,688,240,655,151,748,431,266,34,632,534,240,527,142,36,651,722,352,239,103,216,534,649,30,632,722,765,77,126,585,610,266,211,632,663,694,619,482,775,632,266,53,533,533,539,739,599,799,279,138,188,748,291,585\n",
            "703,512,716,266,480,676,619,65,346,71,632,266,590,619,762,573,632,266,628,240,77,456,536,569,367,198,266,623,160,748,337,536,336,71,619,585,700,138,440,263,562,438,17,54,157,326,362,703,312,67,617,779,765,312,573,585,279,138,8,588,326,139,38,720,722,755,65,346,765,167,629,142,406,619,266,515,446,255,417,266,20,19,748,294,722,398,660,94,220,68,748,717,266,372,367,602,446,534,62,426,591,536,266,765,723,699,629,769,389,240,777,536,585,657,446,112,619,73,617,299,373,723,646,347,632,204,52,6,63,204,578,340,619,334,585,651,266,116,703,572,266,765,438,105,433,554,661,748,202,578,71,367,438,105,318,632,430,617,15,723,456,536,569,789,446,534,780,536,779,765,723,312,42,63,266,590,619,762,488,307,746,241,206,715,519,304,619,189,4,158,496,797,703,390,703,41,686,748,105,748,787,611,530,722,515,748,109,722,584,661,748,266,71,632,266,590,422,364,130,565,779,529,585,496,480,496,84,551,703,212,337,611\n",
            "350,779,534,447,138,512,722,606,697,482,585,114,469,722,709,382,446,266,511,363,632,722,624,42,548,567,723,446,51,503,70,458,530,204,161,632,25,619,199,793,371,779,425,446,490,459,446,225,517,266,665,382,781,248,722,773,309,383,769,447,138,101,748,337,43,517,77,326,425,446,767,132,347,721,26,60,711,247,530,813,414,29,446,51,432,74,530,266,21,15,632,759,70,234,585,282,517,413,274,161,632,616,70,517,84,142,722,781,510,70,74,409,120,293,447,138,465,748,702,814,632,505,703,764,779,425,748,337,554,7,425\n"
          ],
          "name": "stdout"
        }
      ]
    },
    {
      "cell_type": "code",
      "metadata": {
        "id": "PZ1Q7DPZGidp",
        "colab_type": "code",
        "colab": {
          "base_uri": "https://localhost:8080/",
          "height": 829
        },
        "outputId": "5031ca17-4ea2-4dce-8707-ff2c9a70612f"
      },
      "source": [
        "padded_inputs = tf.keras.preprocessing.sequence.pad_sequences(encoded, padding=\"post\")\n",
        "padded_inputs[6]"
      ],
      "execution_count": 42,
      "outputs": [
        {
          "output_type": "execute_result",
          "data": {
            "text/plain": [
              "array([618,  84, 105, 533, 533,  82, 690, 496, 752, 226, 218, 476, 476,\n",
              "       745, 127, 632, 237, 803, 240,   5, 354, 536, 266, 511, 615,  77,\n",
              "       240,  99,  85, 779, 185, 720, 369, 603, 533, 533, 435, 631, 540,\n",
              "       496, 570, 100, 378,  63, 326, 285, 749, 619, 365, 266,  80, 374,\n",
              "       632, 266, 627, 533, 533, 439, 283, 496, 266, 487, 475, 632, 266,\n",
              "       627, 453, 309, 726, 499, 266, 812, 619, 453, 309, 146, 740, 597,\n",
              "       738, 769, 559, 408, 707, 344,  74, 147, 588, 748, 105, 722, 106,\n",
              "       194, 517, 266, 137, 459, 240, 575, 562, 105, 416, 378, 240,  91,\n",
              "       521, 619, 386, 562, 662, 760, 319, 442, 530, 102, 231, 389, 240,\n",
              "       815, 632, 266, 812, 588, 748, 105, 666, 106, 194, 740, 597, 322,\n",
              "       371, 722, 115, 533, 533, 437, 179, 496, 666, 106, 194,   3, 496,\n",
              "       698, 408, 496, 204, 792, 215, 252, 138, 351, 321, 132, 364, 243,\n",
              "       530, 604, 566, 266, 139, 361, 389,  57, 604, 722, 790, 790, 217,\n",
              "       711, 266, 609, 533, 533, 619,   9, 533, 533, 535, 783, 496, 752,\n",
              "       195, 379, 191,  79, 632, 266, 191, 761, 634,  28, 486, 653, 536,\n",
              "       740, 563, 132, 722,  75, 632,  56, 207, 494, 530, 209, 536, 266,\n",
              "       594, 658, 172, 753, 110, 449, 687, 303, 632, 494, 703, 791, 280,\n",
              "       433, 748, 464, 266, 284, 405, 370, 632, 237, 735, 703, 732, 585,\n",
              "       312, 444, 426, 769,  61,  74, 568, 632, 266,  62, 658, 633, 187,\n",
              "       551, 138, 356, 562, 700, 138, 713, 635, 533, 533, 121, 535, 152,\n",
              "       312, 413, 576, 325, 105, 433, 300, 266, 528, 185, 367, 593, 138,\n",
              "       758, 560, 229,  77, 364, 156, 778, 182,  74, 772, 533, 533, 417,\n",
              "       132, 722, 292, 619, 754, 229, 779,  84, 105, 266, 602,  32, 632,\n",
              "       681, 614,  99, 533, 533, 418, 367,  66, 336, 612, 649, 174, 235,\n",
              "       573, 562,  12, 361, 797, 736, 302,  25, 446, 534, 632, 266, 523,\n",
              "       455, 621, 293, 446, 328, 363, 108, 533, 533, 285, 596, 484, 318,\n",
              "       619, 318, 632, 798, 367, 341, 731, 585, 617, 385, 471, 192, 585,\n",
              "       240, 172, 266, 626, 533, 533, 141, 596, 484, 788, 475, 583, 722,\n",
              "       804, 645,  74, 806, 740, 809, 130,  59,  45, 240, 266, 376, 632,\n",
              "       692, 278, 788, 475, 446, 580, 737, 533, 533, 289, 788, 475, 598,\n",
              "       337, 497, 496, 246, 246, 533, 533, 314, 596, 484, 246, 246, 197,\n",
              "       720, 689, 536, 740, 809,  97, 389, 240, 536, 716, 231, 703, 212,\n",
              "       719, 250, 180, 554, 436, 172, 530, 177, 748,  17, 132,  77, 233,\n",
              "       536, 740, 809, 703, 268, 395, 562, 483, 679, 533, 533, 807,  87,\n",
              "       555, 596, 484, 369, 517, 262,  24, 576, 446, 485, 803, 240,  51,\n",
              "       752,  70, 475, 533, 533, 645, 302, 312, 666, 619, 478, 703, 559,\n",
              "       252, 138, 259,  84, 723, 312, 335, 181, 619, 550, 703, 252, 138,\n",
              "       760, 259,  84, 371, 312, 666, 619, 478, 533, 533, 680, 734, 321,\n",
              "       562, 302,   1, 750, 251, 749, 173, 400, 317, 639, 748, 569, 711,\n",
              "       302, 533, 533,   7, 711, 266, 620, 246, 246,  55, 389, 240, 133,\n",
              "       740, 445, 748, 266, 601, 498, 810, 619, 743, 125, 319, 763, 542,\n",
              "       524, 293, 240, 642, 722, 423, 347, 398, 662, 246, 246, 360, 722,\n",
              "       196, 517,  97, 703, 593, 138, 547, 319, 763,  63, 347, 454, 714,\n",
              "        81, 619, 446, 198, 504, 517, 266, 253, 617, 475, 632, 266, 627,\n",
              "       581, 337, 347, 253, 263, 463, 240, 686, 748, 764, 604, 293, 669,\n",
              "       561, 589, 130, 501,  35, 748, 118, 711, 464, 273, 720, 748, 337,\n",
              "       501,  35,  72, 536, 336, 692, 343, 533, 533, 545, 479], dtype=int32)"
            ]
          },
          "metadata": {
            "tags": []
          },
          "execution_count": 42
        }
      ]
    },
    {
      "cell_type": "code",
      "metadata": {
        "id": "oWbTNOjtOeCT",
        "colab_type": "code",
        "colab": {}
      },
      "source": [
        "(train_data, test_data), info = tfds.load(\n",
        "    'imdb_reviews/subwords8k', \n",
        "    split = (tfds.Split.TRAIN, tfds.Split.TEST), \n",
        "    with_info=True, as_supervised=True)"
      ],
      "execution_count": 44,
      "outputs": []
    },
    {
      "cell_type": "code",
      "metadata": {
        "id": "jAT2xNxbOkBO",
        "colab_type": "code",
        "colab": {
          "base_uri": "https://localhost:8080/",
          "height": 363
        },
        "outputId": "f71fdf18-f256-4360-9dcc-cfe961803feb"
      },
      "source": [
        "encoder = info.features['text'].encoder\n",
        "encoder.subwords[:20]"
      ],
      "execution_count": 45,
      "outputs": [
        {
          "output_type": "execute_result",
          "data": {
            "text/plain": [
              "['the_',\n",
              " ', ',\n",
              " '. ',\n",
              " 'a_',\n",
              " 'and_',\n",
              " 'of_',\n",
              " 'to_',\n",
              " 's_',\n",
              " 'is_',\n",
              " 'br',\n",
              " 'in_',\n",
              " 'I_',\n",
              " 'that_',\n",
              " 'this_',\n",
              " 'it_',\n",
              " ' /><',\n",
              " ' />',\n",
              " 'was_',\n",
              " 'The_',\n",
              " 'as_']"
            ]
          },
          "metadata": {
            "tags": []
          },
          "execution_count": 45
        }
      ]
    },
    {
      "cell_type": "code",
      "metadata": {
        "id": "xbFoyI0QOmhy",
        "colab_type": "code",
        "colab": {}
      },
      "source": [
        "train_batches = train_data.shuffle(1000).padded_batch(10)\n",
        "test_batches = test_data.shuffle(1000).padded_batch(10)"
      ],
      "execution_count": 46,
      "outputs": []
    },
    {
      "cell_type": "code",
      "metadata": {
        "id": "LCHL3e1SOu4Y",
        "colab_type": "code",
        "colab": {
          "base_uri": "https://localhost:8080/",
          "height": 138
        },
        "outputId": "a155bc5c-7039-4c64-d388-f63d75214205"
      },
      "source": [
        "train_batch, train_labels = next(iter(train_batches))\n",
        "train_batch.numpy()"
      ],
      "execution_count": 47,
      "outputs": [
        {
          "output_type": "execute_result",
          "data": {
            "text/plain": [
              "array([[  19,   27,   18, ...,    0,    0,    0],\n",
              "       [7916,   64, 6539, ...,    0,    0,    0],\n",
              "       [ 404, 5684, 7961, ...,    0,    0,    0],\n",
              "       ...,\n",
              "       [1455,    1,  228, ...,    0,    0,    0],\n",
              "       [4729, 8004, 4581, ...,    0,    0,    0],\n",
              "       [  19,   32, 3414, ..., 8018, 3894, 3274]])"
            ]
          },
          "metadata": {
            "tags": []
          },
          "execution_count": 47
        }
      ]
    },
    {
      "cell_type": "code",
      "metadata": {
        "id": "-8uFgTgvHIEG",
        "colab_type": "code",
        "colab": {
          "base_uri": "https://localhost:8080/",
          "height": 286
        },
        "outputId": "d4f8c9de-7abb-4f8a-d0af-56a46b9132f1"
      },
      "source": [
        "import tensorflow.keras as keras\n",
        "import tensorflow.keras.layers as layers\n",
        "\n",
        "embedding_dim=16\n",
        "\n",
        "model = tf.keras.Sequential([\n",
        "  layers.Embedding(encoder.vocab_size, embedding_dim),\n",
        "  layers.GlobalAveragePooling1D(),\n",
        "  layers.Dense(16, activation='relu'),\n",
        "  layers.Dense(1)\n",
        "])\n",
        "\n",
        "model.summary()"
      ],
      "execution_count": 48,
      "outputs": [
        {
          "output_type": "stream",
          "text": [
            "Model: \"sequential_1\"\n",
            "_________________________________________________________________\n",
            "Layer (type)                 Output Shape              Param #   \n",
            "=================================================================\n",
            "embedding_1 (Embedding)      (None, None, 16)          130960    \n",
            "_________________________________________________________________\n",
            "global_average_pooling1d_1 ( (None, 16)                0         \n",
            "_________________________________________________________________\n",
            "dense_2 (Dense)              (None, 16)                272       \n",
            "_________________________________________________________________\n",
            "dense_3 (Dense)              (None, 1)                 17        \n",
            "=================================================================\n",
            "Total params: 131,249\n",
            "Trainable params: 131,249\n",
            "Non-trainable params: 0\n",
            "_________________________________________________________________\n"
          ],
          "name": "stdout"
        }
      ]
    },
    {
      "cell_type": "code",
      "metadata": {
        "id": "2udckj1VHu6A",
        "colab_type": "code",
        "colab": {
          "base_uri": "https://localhost:8080/",
          "height": 353
        },
        "outputId": "7d2a7c35-d216-4c49-d55d-69d048178fbf"
      },
      "source": [
        "model.compile(optimizer='adam',\n",
        "              loss=tf.keras.losses.BinaryCrossentropy(from_logits=True),\n",
        "              metrics=['accuracy'])\n",
        "\n",
        "history = model.fit(\n",
        "    train_batches,\n",
        "    epochs=10,\n",
        "    validation_data=test_batches, validation_steps=20)"
      ],
      "execution_count": 49,
      "outputs": [
        {
          "output_type": "stream",
          "text": [
            "Epoch 1/10\n",
            "2500/2500 [==============================] - 11s 4ms/step - loss: 0.5125 - accuracy: 0.6910 - val_loss: 0.3895 - val_accuracy: 0.8300\n",
            "Epoch 2/10\n",
            "2500/2500 [==============================] - 11s 4ms/step - loss: 0.2893 - accuracy: 0.8804 - val_loss: 0.3351 - val_accuracy: 0.8850\n",
            "Epoch 3/10\n",
            "2500/2500 [==============================] - 11s 4ms/step - loss: 0.2333 - accuracy: 0.9082 - val_loss: 0.4406 - val_accuracy: 0.8650\n",
            "Epoch 4/10\n",
            "2500/2500 [==============================] - 11s 4ms/step - loss: 0.1984 - accuracy: 0.9224 - val_loss: 0.3019 - val_accuracy: 0.8700\n",
            "Epoch 5/10\n",
            "2500/2500 [==============================] - 11s 4ms/step - loss: 0.1773 - accuracy: 0.9344 - val_loss: 0.2805 - val_accuracy: 0.8750\n",
            "Epoch 6/10\n",
            "2500/2500 [==============================] - 11s 5ms/step - loss: 0.1565 - accuracy: 0.9426 - val_loss: 0.3502 - val_accuracy: 0.8800\n",
            "Epoch 7/10\n",
            "2500/2500 [==============================] - 11s 4ms/step - loss: 0.1427 - accuracy: 0.9487 - val_loss: 0.4544 - val_accuracy: 0.8400\n",
            "Epoch 8/10\n",
            "2500/2500 [==============================] - 11s 4ms/step - loss: 0.1308 - accuracy: 0.9534 - val_loss: 0.4440 - val_accuracy: 0.8700\n",
            "Epoch 9/10\n",
            "2500/2500 [==============================] - 11s 4ms/step - loss: 0.1203 - accuracy: 0.9576 - val_loss: 0.5433 - val_accuracy: 0.8100\n",
            "Epoch 10/10\n",
            "2500/2500 [==============================] - 10s 4ms/step - loss: 0.1105 - accuracy: 0.9618 - val_loss: 0.4840 - val_accuracy: 0.8400\n"
          ],
          "name": "stdout"
        }
      ]
    },
    {
      "cell_type": "code",
      "metadata": {
        "id": "FCcQVKr1PqGJ",
        "colab_type": "code",
        "colab": {
          "base_uri": "https://localhost:8080/",
          "height": 34
        },
        "outputId": "b8d52f11-2517-4973-a836-2719b2a2e4f1"
      },
      "source": [
        "e = model.layers[0]\n",
        "weights = e.get_weights()[0]\n",
        "print(weights.shape) "
      ],
      "execution_count": 50,
      "outputs": [
        {
          "output_type": "stream",
          "text": [
            "(8185, 16)\n"
          ],
          "name": "stdout"
        }
      ]
    },
    {
      "cell_type": "code",
      "metadata": {
        "id": "lBUTbPcDPvRT",
        "colab_type": "code",
        "colab": {
          "base_uri": "https://localhost:8080/",
          "height": 84
        },
        "outputId": "2040c8c2-8c2a-4bb3-886d-25f9ecfeea23"
      },
      "source": [
        "weights[0]"
      ],
      "execution_count": 51,
      "outputs": [
        {
          "output_type": "execute_result",
          "data": {
            "text/plain": [
              "array([ 0.02496316,  0.01086837, -0.02314742, -0.0772346 , -0.00982645,\n",
              "       -0.14466217,  0.06894587,  0.04889644,  0.01339952,  0.01574292,\n",
              "       -0.00696151, -0.04831559, -0.00495633,  0.01923616, -0.03549267,\n",
              "       -0.01864228], dtype=float32)"
            ]
          },
          "metadata": {
            "tags": []
          },
          "execution_count": 51
        }
      ]
    },
    {
      "cell_type": "code",
      "metadata": {
        "id": "897jNGO_QiaU",
        "colab_type": "code",
        "colab": {
          "base_uri": "https://localhost:8080/",
          "height": 50
        },
        "outputId": "25454cb5-6fdf-41dc-e178-66686f23a885"
      },
      "source": [
        "from scipy.spatial import distance\n",
        "\n",
        "print(distance.cosine(weights[701], weights[505]))\n",
        "encoder.subwords[701], encoder.subwords[505]"
      ],
      "execution_count": 62,
      "outputs": [
        {
          "output_type": "stream",
          "text": [
            "0.8925988748669624\n"
          ],
          "name": "stdout"
        },
        {
          "output_type": "execute_result",
          "data": {
            "text/plain": [
              "('night_', 'was')"
            ]
          },
          "metadata": {
            "tags": []
          },
          "execution_count": 62
        }
      ]
    }
  ]
}