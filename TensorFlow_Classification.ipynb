{
  "nbformat": 4,
  "nbformat_minor": 0,
  "metadata": {
    "colab": {
      "name": "TensorFlow_Classification.ipynb",
      "provenance": [],
      "collapsed_sections": [],
      "authorship_tag": "ABX9TyO65+PJU83t3bZYH4wY7kjB",
      "include_colab_link": true
    },
    "kernelspec": {
      "name": "python3",
      "display_name": "Python 3"
    },
    "accelerator": "GPU"
  },
  "cells": [
    {
      "cell_type": "markdown",
      "metadata": {
        "id": "view-in-github",
        "colab_type": "text"
      },
      "source": [
        "<a href=\"https://colab.research.google.com/github/cxbxmxcx/TensorFlow_Certification/blob/master/TensorFlow_Classification.ipynb\" target=\"_parent\"><img src=\"https://colab.research.google.com/assets/colab-badge.svg\" alt=\"Open In Colab\"/></a>"
      ]
    },
    {
      "cell_type": "code",
      "metadata": {
        "id": "Pk3VGQiKP0oy",
        "colab_type": "code",
        "colab": {
          "base_uri": "https://localhost:8080/",
          "height": 34
        },
        "outputId": "5e0a5b57-6bb7-4a82-ed3b-324208276f05"
      },
      "source": [
        "!pip install -q tensorflow-text"
      ],
      "execution_count": null,
      "outputs": [
        {
          "output_type": "stream",
          "text": [
            "\u001b[K     |████████████████████████████████| 3.0MB 2.5MB/s \n",
            "\u001b[?25h"
          ],
          "name": "stdout"
        }
      ]
    },
    {
      "cell_type": "code",
      "metadata": {
        "id": "rhUrDc_zOA-H",
        "colab_type": "code",
        "colab": {}
      },
      "source": [
        "import tensorflow_datasets as tfds\n",
        "import tensorflow as tf\n"
      ],
      "execution_count": 1,
      "outputs": []
    },
    {
      "cell_type": "code",
      "metadata": {
        "id": "77M5llb-DJNx",
        "colab_type": "code",
        "colab": {}
      },
      "source": [
        "dataset, info = tfds.load('imdb_reviews/subwords8k', with_info=True,\n",
        "                          as_supervised=True)\n",
        "train_dataset, test_dataset = dataset['train'], dataset['test']"
      ],
      "execution_count": 21,
      "outputs": []
    },
    {
      "cell_type": "code",
      "metadata": {
        "id": "uk7GDwUXSDMc",
        "colab_type": "code",
        "colab": {
          "base_uri": "https://localhost:8080/",
          "height": 34
        },
        "outputId": "8dac902e-61db-4f85-fbef-7acc715945ac"
      },
      "source": [
        "encoder = info.features['text'].encoder\n",
        "encoder.vocab_size"
      ],
      "execution_count": 3,
      "outputs": [
        {
          "output_type": "execute_result",
          "data": {
            "text/plain": [
              "8185"
            ]
          },
          "metadata": {
            "tags": []
          },
          "execution_count": 3
        }
      ]
    },
    {
      "cell_type": "code",
      "metadata": {
        "id": "zXfuLaoVUD2b",
        "colab_type": "code",
        "colab": {
          "base_uri": "https://localhost:8080/",
          "height": 34
        },
        "outputId": "87a783e9-fc0a-4564-985a-dc90a2d15bb7"
      },
      "source": [
        "encoded = encoder.encode(\"Hello how are you today.\")\n",
        "encoded"
      ],
      "execution_count": 4,
      "outputs": [
        {
          "output_type": "execute_result",
          "data": {
            "text/plain": [
              "[4025, 222, 113, 29, 37, 1076, 7975]"
            ]
          },
          "metadata": {
            "tags": []
          },
          "execution_count": 4
        }
      ]
    },
    {
      "cell_type": "code",
      "metadata": {
        "id": "AHc1qMwjVCQR",
        "colab_type": "code",
        "colab": {
          "base_uri": "https://localhost:8080/",
          "height": 138
        },
        "outputId": "2ccb2e69-62bb-45ea-db6d-6c875cb520d0"
      },
      "source": [
        "[' ---> '.join([str(index),encoder.decode([index])]) for index in encoded]"
      ],
      "execution_count": 5,
      "outputs": [
        {
          "output_type": "execute_result",
          "data": {
            "text/plain": [
              "['4025 ---> Hell',\n",
              " '222 ---> o ',\n",
              " '113 ---> how ',\n",
              " '29 ---> are ',\n",
              " '37 ---> you ',\n",
              " '1076 ---> today',\n",
              " '7975 ---> .']"
            ]
          },
          "metadata": {
            "tags": []
          },
          "execution_count": 5
        }
      ]
    },
    {
      "cell_type": "code",
      "metadata": {
        "id": "4UgjBMmhVZU6",
        "colab_type": "code",
        "colab": {}
      },
      "source": [
        "BUFFER_SIZE = 100000\n",
        "BATCH_SIZE = 64\n",
        "\n",
        "\n",
        "train_dataset = train_dataset.shuffle(BUFFER_SIZE)\n",
        "\n",
        "train_dataset = train_dataset.take(5000)\n",
        "test_dataset = test_dataset.take(1000)\n",
        "\n",
        "train_dataset = train_dataset.padded_batch(BATCH_SIZE)\n",
        "test_dataset = test_dataset.padded_batch(BATCH_SIZE)\n"
      ],
      "execution_count": 22,
      "outputs": []
    },
    {
      "cell_type": "code",
      "metadata": {
        "id": "EutW_S5JYxhg",
        "colab_type": "code",
        "colab": {}
      },
      "source": [
        "model = tf.keras.Sequential([\n",
        "    tf.keras.layers.Embedding(encoder.vocab_size, 64),\n",
        "    tf.keras.layers.Bidirectional(tf.keras.layers.LSTM(64,  return_sequences=True)),    \n",
        "    tf.keras.layers.Dense(64, activation='relu'),\n",
        "    tf.keras.layers.Dropout(0.5),\n",
        "    tf.keras.layers.Dense(1)\n",
        "])"
      ],
      "execution_count": 10,
      "outputs": []
    },
    {
      "cell_type": "code",
      "metadata": {
        "id": "v3sVKdalY3Uw",
        "colab_type": "code",
        "colab": {}
      },
      "source": [
        "model.compile(loss=tf.keras.losses.BinaryCrossentropy(from_logits=True),\n",
        "              optimizer=tf.keras.optimizers.Adam(1e-4),\n",
        "              metrics=['accuracy'])"
      ],
      "execution_count": 16,
      "outputs": []
    },
    {
      "cell_type": "code",
      "metadata": {
        "id": "ibGkPNlFZAi7",
        "colab_type": "code",
        "colab": {
          "base_uri": "https://localhost:8080/",
          "height": 363
        },
        "outputId": "13546f8a-108f-4027-ec7f-9e945cc1caeb"
      },
      "source": [
        "history = model.fit(train_dataset, epochs=10)"
      ],
      "execution_count": 23,
      "outputs": [
        {
          "output_type": "stream",
          "text": [
            "Epoch 1/10\n",
            "79/79 [==============================] - 14s 175ms/step - loss: 0.5542 - accuracy: 0.6780\n",
            "Epoch 2/10\n",
            "79/79 [==============================] - 14s 182ms/step - loss: 0.4668 - accuracy: 0.8087\n",
            "Epoch 3/10\n",
            "79/79 [==============================] - 14s 179ms/step - loss: 0.4352 - accuracy: 0.8317\n",
            "Epoch 4/10\n",
            "79/79 [==============================] - 14s 181ms/step - loss: 0.3640 - accuracy: 0.8725\n",
            "Epoch 5/10\n",
            "79/79 [==============================] - 14s 171ms/step - loss: 0.5067 - accuracy: 0.7388\n",
            "Epoch 6/10\n",
            "79/79 [==============================] - 14s 181ms/step - loss: 0.6096 - accuracy: 0.5821\n",
            "Epoch 7/10\n",
            "79/79 [==============================] - 14s 178ms/step - loss: 0.6005 - accuracy: 0.5906\n",
            "Epoch 8/10\n",
            "79/79 [==============================] - 14s 179ms/step - loss: 0.6034 - accuracy: 0.5827\n",
            "Epoch 9/10\n",
            "79/79 [==============================] - 14s 181ms/step - loss: 0.5948 - accuracy: 0.5952\n",
            "Epoch 10/10\n",
            "79/79 [==============================] - 14s 182ms/step - loss: 0.5940 - accuracy: 0.5972\n"
          ],
          "name": "stdout"
        }
      ]
    },
    {
      "cell_type": "code",
      "metadata": {
        "id": "Bh78sIY_i0Tq",
        "colab_type": "code",
        "colab": {}
      },
      "source": [
        "def sample_predict(sample_pred_text):\n",
        "  encoded_sample_pred_text = encoder.encode(sample_pred_text)  \n",
        "  encoded_sample_pred_text = tf.cast(encoded_sample_pred_text, tf.float32)\n",
        "  predictions = model.predict(tf.expand_dims(encoded_sample_pred_text, 0))\n",
        "\n",
        "  return (predictions)"
      ],
      "execution_count": 33,
      "outputs": []
    },
    {
      "cell_type": "code",
      "metadata": {
        "id": "ZPrT0r5GjPK9",
        "colab_type": "code",
        "colab": {
          "base_uri": "https://localhost:8080/",
          "height": 34
        },
        "outputId": "d3b4f416-1b3f-4b86-87e5-eee1a364129d"
      },
      "source": [
        "sample_pred_text = ('The movie was cool. The animation and the graphics '\n",
        "                    'were out of this world. I would recommend this movie.')\n",
        "predictions = sample_predict(sample_pred_text)\n",
        "print(sum(predictions[0]))"
      ],
      "execution_count": 34,
      "outputs": [
        {
          "output_type": "stream",
          "text": [
            "[4.2505746]\n"
          ],
          "name": "stdout"
        }
      ]
    },
    {
      "cell_type": "code",
      "metadata": {
        "id": "em0SQIWqjaK0",
        "colab_type": "code",
        "colab": {
          "base_uri": "https://localhost:8080/",
          "height": 34
        },
        "outputId": "8b5a8abb-c23a-4ec0-fb9a-a5a2732a0bab"
      },
      "source": [
        "# predict on a sample text with padding\n",
        "\n",
        "sample_pred_text = ('I hated this movie. The animation and the graphics '\n",
        "                    'were terrible. I would not recommend this movie.')\n",
        "predictions = sample_predict(sample_pred_text)\n",
        "print(sum(predictions[0]))"
      ],
      "execution_count": 35,
      "outputs": [
        {
          "output_type": "stream",
          "text": [
            "[-11.319085]\n"
          ],
          "name": "stdout"
        }
      ]
    }
  ]
}